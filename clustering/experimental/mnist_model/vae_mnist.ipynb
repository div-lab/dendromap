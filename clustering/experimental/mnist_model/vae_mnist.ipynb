{
 "cells": [
  {
   "cell_type": "code",
   "execution_count": 1,
   "metadata": {},
   "outputs": [],
   "source": [
    "from dendromap_data import compute_dendrogram\n",
    "import json"
   ]
  },
  {
   "cell_type": "code",
   "execution_count": 2,
   "metadata": {},
   "outputs": [],
   "source": [
    "# IMPORT INSTANCE DATA\n",
    "relative_folder = \"./mnist_model\"\n",
    "predictions_filename = \"vae_mnist_train.json\"\n",
    "def import_predictions(filepath):\n",
    "    data = None\n",
    "    with open(filepath, \"r\") as input_file:\n",
    "        data = json.load(input_file)\n",
    "    return data\n",
    "mnist_data = import_predictions(f\"{relative_folder}/{predictions_filename}\")"
   ]
  },
  {
   "cell_type": "code",
   "execution_count": 3,
   "metadata": {},
   "outputs": [
    {
     "name": "stdout",
     "output_type": "stream",
     "text": [
      "dict_keys(['dataset', 'train_instances', 'model_name'])\n",
      "conv_vae, mnist\n",
      "60000 instances\n"
     ]
    }
   ],
   "source": [
    "# Extract information\n",
    "dataset = mnist_data[\"dataset\"]\n",
    "model = mnist_data[\"model_name\"]\n",
    "instances = mnist_data[\"train_instances\"]\n",
    "\n",
    "print(mnist_data.keys())\n",
    "print(model, dataset, sep=\", \")\n",
    "print(f\"{len(instances)} instances\")"
   ]
  },
  {
   "cell_type": "code",
   "execution_count": null,
   "metadata": {},
   "outputs": [],
   "source": [
    "dendrogram = compute_dendrogram(instances)"
   ]
  },
  {
   "cell_type": "code",
   "execution_count": 16,
   "metadata": {},
   "outputs": [],
   "source": [
    "with open(\"../public/mnist/clusters/vae_mnist_clusters.json\", \"w\") as out:\n",
    "    json.dump({\"tree\": dendrogram.to_json()}, out)"
   ]
  }
 ],
 "metadata": {
  "interpreter": {
   "hash": "aee8b7b246df8f9039afb4144a1f6fd8d2ca17a180786b69acc140d282b71a49"
  },
  "kernelspec": {
   "display_name": "Python 3.9.9 64-bit",
   "language": "python",
   "name": "python3"
  },
  "language_info": {
   "codemirror_mode": {
    "name": "ipython",
    "version": 3
   },
   "file_extension": ".py",
   "mimetype": "text/x-python",
   "name": "python",
   "nbconvert_exporter": "python",
   "pygments_lexer": "ipython3",
   "version": "3.9.9"
  },
  "orig_nbformat": 4
 },
 "nbformat": 4,
 "nbformat_minor": 2
}
