{
 "cells": [
  {
   "cell_type": "code",
   "execution_count": 67,
   "metadata": {},
   "outputs": [],
   "source": [
    "# this notebook is inspired by and took code from \n",
    "# https://colab.research.google.com/github/smartgeometry-ucl/dl4g/blob/master/variational_autoencoder.ipynb#scrollTo=7HRWe57wyvPF\n",
    "import torch\n",
    "from torch import nn\n",
    "import torch.nn.functional as F\n",
    "from torchvision import datasets, transforms\n",
    "from torch.utils.data import DataLoader\n",
    "import matplotlib.pyplot as plt\n",
    "import numpy as np\n",
    "from torchvision.utils import save_image\n",
    "import json"
   ]
  },
  {
   "cell_type": "code",
   "execution_count": 2,
   "metadata": {},
   "outputs": [
    {
     "name": "stderr",
     "output_type": "stream",
     "text": [
      "/usr/local/lib/python3.9/site-packages/torchvision/datasets/mnist.py:498: UserWarning: The given NumPy array is not writeable, and PyTorch does not support non-writeable tensors. This means you can write to the underlying (supposedly non-writeable) NumPy array using the tensor. You may want to copy the array to protect its data or make it writeable before converting it to a tensor. This type of warning will be suppressed for the rest of this program. (Triggered internally at  ../torch/csrc/utils/tensor_numpy.cpp:180.)\n",
      "  return torch.from_numpy(parsed.astype(m[2], copy=False)).view(*s)\n"
     ]
    }
   ],
   "source": [
    "mnist_transform = transforms.Compose([transforms.ToTensor()])\n",
    "mnist_ds = datasets.MNIST(\"../mnist\", train=True, transform=mnist_transform, download=True)"
   ]
  },
  {
   "cell_type": "code",
   "execution_count": 3,
   "metadata": {},
   "outputs": [
    {
     "name": "stdout",
     "output_type": "stream",
     "text": [
      "tensor([[  0,   0,   0,   0,   0,   0,   0,   0,   0,   0,   0,   0,   0,   0,\n",
      "           0,   0,   0,   0,   0,   0,   0,   0,   0,   0,   0,   0,   0,   0],\n",
      "        [  0,   0,   0,   0,   0,   0,   0,   0,   0,   0,   0,   0,   0,   0,\n",
      "           0,   0,   0,   0,   0,   0,   0,   0,   0,   0,   0,   0,   0,   0],\n",
      "        [  0,   0,   0,   0,   0,   0,   0,   0,   0,   0,   0,   0,   0,   0,\n",
      "           0,   0,   0,   0,   0,   0,   0,   0,   0,   0,   0,   0,   0,   0],\n",
      "        [  0,   0,   0,   0,   0,   0,   0,   0,   0,   0,   0,   0,   0,   0,\n",
      "           0,   0,   0,   0,   0,   0,   0,   0,   0,   0,   0,   0,   0,   0],\n",
      "        [  0,   0,   0,   0,   0,   0,   0,   0,   0,   0,   0,   0,   0,   0,\n",
      "           0,   0,   0,   0,   0,   0,   0,   0,   0,   0,   0,   0,   0,   0],\n",
      "        [  0,   0,   0,   0,   0,   0,   0,   0,   0,   0,   0,   0,   3,  18,\n",
      "          18,  18, 126, 136, 175,  26, 166, 255, 247, 127,   0,   0,   0,   0],\n",
      "        [  0,   0,   0,   0,   0,   0,   0,   0,  30,  36,  94, 154, 170, 253,\n",
      "         253, 253, 253, 253, 225, 172, 253, 242, 195,  64,   0,   0,   0,   0],\n",
      "        [  0,   0,   0,   0,   0,   0,   0,  49, 238, 253, 253, 253, 253, 253,\n",
      "         253, 253, 253, 251,  93,  82,  82,  56,  39,   0,   0,   0,   0,   0],\n",
      "        [  0,   0,   0,   0,   0,   0,   0,  18, 219, 253, 253, 253, 253, 253,\n",
      "         198, 182, 247, 241,   0,   0,   0,   0,   0,   0,   0,   0,   0,   0],\n",
      "        [  0,   0,   0,   0,   0,   0,   0,   0,  80, 156, 107, 253, 253, 205,\n",
      "          11,   0,  43, 154,   0,   0,   0,   0,   0,   0,   0,   0,   0,   0],\n",
      "        [  0,   0,   0,   0,   0,   0,   0,   0,   0,  14,   1, 154, 253,  90,\n",
      "           0,   0,   0,   0,   0,   0,   0,   0,   0,   0,   0,   0,   0,   0],\n",
      "        [  0,   0,   0,   0,   0,   0,   0,   0,   0,   0,   0, 139, 253, 190,\n",
      "           2,   0,   0,   0,   0,   0,   0,   0,   0,   0,   0,   0,   0,   0],\n",
      "        [  0,   0,   0,   0,   0,   0,   0,   0,   0,   0,   0,  11, 190, 253,\n",
      "          70,   0,   0,   0,   0,   0,   0,   0,   0,   0,   0,   0,   0,   0],\n",
      "        [  0,   0,   0,   0,   0,   0,   0,   0,   0,   0,   0,   0,  35, 241,\n",
      "         225, 160, 108,   1,   0,   0,   0,   0,   0,   0,   0,   0,   0,   0],\n",
      "        [  0,   0,   0,   0,   0,   0,   0,   0,   0,   0,   0,   0,   0,  81,\n",
      "         240, 253, 253, 119,  25,   0,   0,   0,   0,   0,   0,   0,   0,   0],\n",
      "        [  0,   0,   0,   0,   0,   0,   0,   0,   0,   0,   0,   0,   0,   0,\n",
      "          45, 186, 253, 253, 150,  27,   0,   0,   0,   0,   0,   0,   0,   0],\n",
      "        [  0,   0,   0,   0,   0,   0,   0,   0,   0,   0,   0,   0,   0,   0,\n",
      "           0,  16,  93, 252, 253, 187,   0,   0,   0,   0,   0,   0,   0,   0],\n",
      "        [  0,   0,   0,   0,   0,   0,   0,   0,   0,   0,   0,   0,   0,   0,\n",
      "           0,   0,   0, 249, 253, 249,  64,   0,   0,   0,   0,   0,   0,   0],\n",
      "        [  0,   0,   0,   0,   0,   0,   0,   0,   0,   0,   0,   0,   0,   0,\n",
      "          46, 130, 183, 253, 253, 207,   2,   0,   0,   0,   0,   0,   0,   0],\n",
      "        [  0,   0,   0,   0,   0,   0,   0,   0,   0,   0,   0,   0,  39, 148,\n",
      "         229, 253, 253, 253, 250, 182,   0,   0,   0,   0,   0,   0,   0,   0],\n",
      "        [  0,   0,   0,   0,   0,   0,   0,   0,   0,   0,  24, 114, 221, 253,\n",
      "         253, 253, 253, 201,  78,   0,   0,   0,   0,   0,   0,   0,   0,   0],\n",
      "        [  0,   0,   0,   0,   0,   0,   0,   0,  23,  66, 213, 253, 253, 253,\n",
      "         253, 198,  81,   2,   0,   0,   0,   0,   0,   0,   0,   0,   0,   0],\n",
      "        [  0,   0,   0,   0,   0,   0,  18, 171, 219, 253, 253, 253, 253, 195,\n",
      "          80,   9,   0,   0,   0,   0,   0,   0,   0,   0,   0,   0,   0,   0],\n",
      "        [  0,   0,   0,   0,  55, 172, 226, 253, 253, 253, 253, 244, 133,  11,\n",
      "           0,   0,   0,   0,   0,   0,   0,   0,   0,   0,   0,   0,   0,   0],\n",
      "        [  0,   0,   0,   0, 136, 253, 253, 253, 212, 135, 132,  16,   0,   0,\n",
      "           0,   0,   0,   0,   0,   0,   0,   0,   0,   0,   0,   0,   0,   0],\n",
      "        [  0,   0,   0,   0,   0,   0,   0,   0,   0,   0,   0,   0,   0,   0,\n",
      "           0,   0,   0,   0,   0,   0,   0,   0,   0,   0,   0,   0,   0,   0],\n",
      "        [  0,   0,   0,   0,   0,   0,   0,   0,   0,   0,   0,   0,   0,   0,\n",
      "           0,   0,   0,   0,   0,   0,   0,   0,   0,   0,   0,   0,   0,   0],\n",
      "        [  0,   0,   0,   0,   0,   0,   0,   0,   0,   0,   0,   0,   0,   0,\n",
      "           0,   0,   0,   0,   0,   0,   0,   0,   0,   0,   0,   0,   0,   0]],\n",
      "       dtype=torch.uint8)\n"
     ]
    },
    {
     "data": {
      "image/png": "[encoded data removed]",
      "text/plain": [
       "<Figure size 432x288 with 1 Axes>"
      ]
     },
     "metadata": {
      "needs_background": "light"
     },
     "output_type": "display_data"
    }
   ],
   "source": [
    "def display_image(image_data):\n",
    "\tplt.imshow(image_data, cmap=\"gray\")\n",
    "\n",
    "first_image = mnist_ds.data[0]\n",
    "display_image(first_image)\n",
    "print(first_image)"
   ]
  },
  {
   "cell_type": "code",
   "execution_count": 4,
   "metadata": {},
   "outputs": [
    {
     "name": "stdout",
     "output_type": "stream",
     "text": [
      "Dataset MNIST\n",
      "    Number of datapoints: 60000\n",
      "    Root location: ../mnist\n",
      "    Split: Train\n",
      "    StandardTransform\n",
      "Transform: Compose(\n",
      "               ToTensor()\n",
      "           )\n"
     ]
    }
   ],
   "source": [
    "batch_size = 64\n",
    "loader = DataLoader(mnist_ds, batch_size=batch_size, shuffle=True, num_workers=2)\n",
    "print(loader.dataset)"
   ]
  },
  {
   "cell_type": "code",
   "execution_count": 5,
   "metadata": {},
   "outputs": [],
   "source": [
    "class Encoder(nn.Module):\n",
    "    def __init__(self, latent=20):\n",
    "        super(Encoder, self).__init__()\n",
    "        self.conv1 = nn.Conv2d(in_channels=1, out_channels=64, kernel_size=4, stride=2, padding=1)\n",
    "        self.conv2 = nn.Conv2d(in_channels=64, out_channels=128, kernel_size=4, stride=2, padding=1)\n",
    "        self.mean = nn.Linear(in_features=128*7*7, out_features=latent)\n",
    "        self.variance = nn.Linear(in_features=128*7*7, out_features=latent)\n",
    "\n",
    "    def forward(self, X):\n",
    "        # cnn portion\n",
    "        X = self.conv1(X)\n",
    "        X = F.relu(X)\n",
    "        X = self.conv2(X)\n",
    "        X = F.relu(X)\n",
    "\n",
    "        # flatten out per batch\n",
    "        X = X.view(X.size(0), -1)\n",
    "        \n",
    "        # fc portion\n",
    "        pred_mean = self.mean(X)\n",
    "        pred_variance = self.variance(X)\n",
    "        \n",
    "        return pred_mean, pred_variance\n",
    "        "
   ]
  },
  {
   "cell_type": "code",
   "execution_count": 7,
   "metadata": {},
   "outputs": [],
   "source": [
    "class Decoder(nn.Module):\n",
    "    def __init__(self, latent=20):\n",
    "        super(Decoder, self).__init__()\n",
    "        self.mirror = nn.Linear(in_features=latent, out_features=128*7*7)\n",
    "        self.conv2_mirror = nn.ConvTranspose2d(in_channels=128, out_channels=64, kernel_size=4, stride=2, padding=1)\n",
    "        self.conv1_mirror = nn.ConvTranspose2d(in_channels=64, out_channels=1, kernel_size=4, stride=2, padding=1)\n",
    "    \n",
    "    def forward(self, X):\n",
    "        # fc portion\n",
    "        X = self.mirror(X)\n",
    "\n",
    "        # unflatten out per batch\n",
    "        X = X.view(X.size(0), 128, 7, 7)\n",
    "\n",
    "        # cnn portion\n",
    "        X = self.conv2_mirror(X)\n",
    "        X = F.relu(X)\n",
    "        X = self.conv1_mirror(X)\n",
    "        X = F.sigmoid(X)\n",
    "\n",
    "        return X"
   ]
  },
  {
   "cell_type": "code",
   "execution_count": 23,
   "metadata": {},
   "outputs": [],
   "source": [
    "class Autoencoder(nn.Module):\n",
    "    def __init__(self, latent=20):\n",
    "        super(Autoencoder, self).__init__()\n",
    "        self.encoder = Encoder(latent)\n",
    "        self.decoder = Decoder(latent)\n",
    "    \n",
    "    def forward(self, X):\n",
    "        mean, variance = self.encoder(X)\n",
    "        latent_vector = self.sample_normal(mean, variance)\n",
    "        reconstruction = self.decoder(latent_vector)\n",
    "        \n",
    "        return reconstruction, mean, variance\n",
    "      \n",
    "    def sample_normal(self, mean, variance):\n",
    "        if self.training:\n",
    "            epsilon = torch.FloatTensor(variance.size()).normal_()\n",
    "            standard_deviation = variance.mul(0.5).exp_()\n",
    "            return epsilon.mul(standard_deviation).add_(mean)\n",
    "        else:\n",
    "            return mean"
   ]
  },
  {
   "cell_type": "code",
   "execution_count": 26,
   "metadata": {},
   "outputs": [],
   "source": [
    "def kl_divergence_normal(mean, variance):\n",
    "    KLD = -0.5 * torch.sum(1 + variance - mean.pow(2) - variance.exp())\n",
    "    return KLD\n",
    "    \n",
    "def vae_loss(disentangled_beta=1.0, **kwargs_bce):\n",
    "    def loss_fn(X, reconstruction, mean, variance):\n",
    "        BCE = F.binary_cross_entropy(reconstruction.view(-1, 28*28), X.view(-1, 28*28), **kwargs_bce)\n",
    "        KLD = kl_divergence_normal(mean, variance)\n",
    "        return BCE + disentangled_beta*KLD\n",
    "    return loss_fn"
   ]
  },
  {
   "cell_type": "code",
   "execution_count": 30,
   "metadata": {},
   "outputs": [
    {
     "name": "stdout",
     "output_type": "stream",
     "text": [
      "Autoencoder(\n",
      "  (encoder): Encoder(\n",
      "    (conv1): Conv2d(1, 64, kernel_size=(4, 4), stride=(2, 2), padding=(1, 1))\n",
      "    (conv2): Conv2d(64, 128, kernel_size=(4, 4), stride=(2, 2), padding=(1, 1))\n",
      "    (mean): Linear(in_features=6272, out_features=20, bias=True)\n",
      "    (variance): Linear(in_features=6272, out_features=20, bias=True)\n",
      "  )\n",
      "  (decoder): Decoder(\n",
      "    (mirror): Linear(in_features=20, out_features=6272, bias=True)\n",
      "    (conv2_mirror): ConvTranspose2d(128, 64, kernel_size=(4, 4), stride=(2, 2), padding=(1, 1))\n",
      "    (conv1_mirror): ConvTranspose2d(64, 1, kernel_size=(4, 4), stride=(2, 2), padding=(1, 1))\n",
      "  )\n",
      ") on the cpu\n"
     ]
    }
   ],
   "source": [
    "model = Autoencoder(latent=20)\n",
    "loss_fn = vae_loss(disentangled_beta=1.0, reduction=\"sum\")\n",
    "optimizer = torch.optim.Adam(params=model.parameters(), lr=1e-3)\n",
    "device = torch.device(\"cuda:0\" if torch.cuda.is_available() else \"cpu\")\n",
    "print(model, \"on the\", device)"
   ]
  },
  {
   "cell_type": "code",
   "execution_count": 31,
   "metadata": {},
   "outputs": [
    {
     "name": "stderr",
     "output_type": "stream",
     "text": [
      "/usr/local/lib/python3.9/site-packages/torch/nn/functional.py:1805: UserWarning: nn.functional.sigmoid is deprecated. Use torch.sigmoid instead.\n",
      "  warnings.warn(\"nn.functional.sigmoid is deprecated. Use torch.sigmoid instead.\")\n"
     ]
    },
    {
     "name": "stdout",
     "output_type": "stream",
     "text": [
      "Epoch: 1\tLoss: 8195.323610220383\n",
      "Epoch: 2\tLoss: 6904.970746070846\n",
      "Epoch: 3\tLoss: 6762.928320520722\n",
      "Epoch: 4\tLoss: 6681.556293414345\n",
      "Epoch: 5\tLoss: 6628.401168855777\n",
      "Epoch: 6\tLoss: 6581.275429666678\n",
      "Epoch: 7\tLoss: 6545.983961158216\n",
      "Epoch: 8\tLoss: 6519.476788941731\n",
      "Epoch: 9\tLoss: 6493.6562734250065\n",
      "Epoch: 10\tLoss: 6474.316852886794\n",
      "Epoch: 11\tLoss: 6456.1194336978615\n",
      "Epoch: 12\tLoss: 6437.85766054979\n",
      "Epoch: 13\tLoss: 6424.893518769157\n",
      "Epoch: 14\tLoss: 6412.129455956823\n",
      "Epoch: 15\tLoss: 6399.668644691581\n",
      "Epoch: 16\tLoss: 6383.987680528718\n",
      "Epoch: 17\tLoss: 6374.853246757979\n",
      "Epoch: 18\tLoss: 6366.519211108242\n",
      "Epoch: 19\tLoss: 6353.716780217217\n",
      "Epoch: 20\tLoss: 6347.4032117766355\n",
      "Epoch: 21\tLoss: 6339.548589189932\n",
      "Epoch: 22\tLoss: 6331.422787013593\n",
      "Epoch: 23\tLoss: 6325.129437216818\n",
      "Epoch: 24\tLoss: 6318.562953924574\n",
      "Epoch: 25\tLoss: 6313.087756321628\n",
      "Epoch: 26\tLoss: 6306.024375801656\n",
      "Epoch: 27\tLoss: 6300.692523883095\n",
      "Epoch: 28\tLoss: 6295.422398158482\n",
      "Epoch: 29\tLoss: 6293.379880469999\n",
      "Epoch: 30\tLoss: 6286.260943122002\n",
      "Epoch: 31\tLoss: 6281.657950655484\n",
      "Epoch: 32\tLoss: 6278.095885840052\n",
      "Epoch: 33\tLoss: 6273.034989411897\n",
      "Epoch: 34\tLoss: 6269.068650886194\n",
      "Epoch: 35\tLoss: 6266.254801085254\n",
      "Epoch: 36\tLoss: 6263.007920515309\n",
      "Epoch: 37\tLoss: 6261.35371916228\n",
      "Epoch: 38\tLoss: 6257.414520328742\n",
      "Epoch: 39\tLoss: 6252.501885452759\n",
      "Epoch: 40\tLoss: 6250.312863868437\n",
      "Epoch: 41\tLoss: 6247.383756788046\n",
      "Epoch: 42\tLoss: 6245.222878267007\n",
      "Epoch: 43\tLoss: 6238.05726945629\n",
      "Epoch: 44\tLoss: 6239.456609339602\n",
      "Epoch: 45\tLoss: 6235.088964010861\n",
      "Epoch: 46\tLoss: 6233.362871832939\n",
      "Epoch: 47\tLoss: 6231.823282010011\n",
      "Epoch: 48\tLoss: 6230.338459332106\n",
      "Epoch: 49\tLoss: 6223.765337132696\n",
      "Epoch: 50\tLoss: 6221.176005349231\n",
      "Epoch: 51\tLoss: 6224.699459507013\n",
      "Epoch: 52\tLoss: 6220.109229244403\n",
      "Epoch: 53\tLoss: 6221.009275001249\n",
      "Epoch: 54\tLoss: 6217.079061219433\n",
      "Epoch: 55\tLoss: 6214.649162634095\n",
      "Epoch: 56\tLoss: 6211.796210510644\n",
      "Epoch: 57\tLoss: 6209.656363481144\n",
      "Epoch: 58\tLoss: 6208.289435738439\n",
      "Epoch: 59\tLoss: 6209.41197116746\n",
      "Epoch: 60\tLoss: 6206.0365117770525\n",
      "Epoch: 61\tLoss: 6202.327367851729\n",
      "Epoch: 62\tLoss: 6200.402404134462\n",
      "Epoch: 63\tLoss: 6199.781290082789\n",
      "Epoch: 64\tLoss: 6197.005398683203\n",
      "Epoch: 65\tLoss: 6199.401426010295\n",
      "Epoch: 66\tLoss: 6195.171449445712\n",
      "Epoch: 67\tLoss: 6191.199944925206\n",
      "Epoch: 68\tLoss: 6191.259077190082\n",
      "Epoch: 69\tLoss: 6189.627568161563\n",
      "Epoch: 70\tLoss: 6190.081296745902\n",
      "Epoch: 71\tLoss: 6189.257192518157\n",
      "Epoch: 72\tLoss: 6188.975563553605\n",
      "Epoch: 73\tLoss: 6185.110868474314\n",
      "Epoch: 74\tLoss: 6184.666774855494\n",
      "Epoch: 75\tLoss: 6184.186773824794\n",
      "Epoch: 76\tLoss: 6181.557461281067\n",
      "Epoch: 77\tLoss: 6178.724109120969\n",
      "Epoch: 78\tLoss: 6179.305644281383\n",
      "Epoch: 79\tLoss: 6179.467449131296\n",
      "Epoch: 80\tLoss: 6175.763354596299\n",
      "Epoch: 81\tLoss: 6174.787770741022\n",
      "Epoch: 82\tLoss: 6175.687093966551\n",
      "Epoch: 83\tLoss: 6174.510945204224\n",
      "Epoch: 84\tLoss: 6171.295496568497\n",
      "Epoch: 85\tLoss: 6168.930068546775\n",
      "Epoch: 86\tLoss: 6171.2076702321265\n",
      "Epoch: 87\tLoss: 6168.27008616238\n",
      "Epoch: 88\tLoss: 6169.143024501516\n",
      "Epoch: 89\tLoss: 6166.243678371535\n",
      "Epoch: 90\tLoss: 6164.96563733717\n",
      "Epoch: 91\tLoss: 6164.288453449827\n",
      "Epoch: 92\tLoss: 6163.864584721482\n",
      "Epoch: 93\tLoss: 6161.604053359042\n",
      "Epoch: 94\tLoss: 6162.72753177472\n",
      "Epoch: 95\tLoss: 6161.9882029063665\n",
      "Epoch: 96\tLoss: 6162.622119765292\n",
      "Epoch: 97\tLoss: 6158.80075340027\n",
      "Epoch: 98\tLoss: 6157.2096256996265\n",
      "Epoch: 99\tLoss: 6156.656826255164\n",
      "Epoch: 100\tLoss: 6157.308489638859\n"
     ]
    }
   ],
   "source": [
    "model.train()\n",
    "max_epochs = 100\n",
    "average_loss = []\n",
    "for epoch in range(max_epochs):\n",
    "    batch_loss_sum = 0.0\n",
    "    num_batches = 0\n",
    "    for batch, _ in loader:\n",
    "        batch = batch.to(device)\n",
    "        # encode and decode forward\n",
    "        reconstruction, pred_mean, pred_variance = model(batch)\n",
    "        loss = loss_fn(reconstruction=reconstruction, X=batch, mean=pred_mean, variance=pred_variance)\n",
    "        \n",
    "        # backprop\n",
    "        optimizer.zero_grad()\n",
    "        loss.backward()\n",
    "        \n",
    "        # grad descent\n",
    "        optimizer.step()\n",
    "\n",
    "        # save instance metrics\n",
    "        batch_loss_sum += loss.item()\n",
    "        num_batches += 1\n",
    "    \n",
    "    # save batch metrics\n",
    "    average_batch_loss = batch_loss_sum/num_batches\n",
    "    average_loss.append(average_batch_loss)\n",
    "    print(f\"Epoch: {epoch+1}\\tLoss: {average_batch_loss}\")"
   ]
  },
  {
   "cell_type": "code",
   "execution_count": 33,
   "metadata": {},
   "outputs": [],
   "source": [
    "torch.save(model.state_dict(), \"./mnist_vae.pt\")"
   ]
  },
  {
   "cell_type": "code",
   "execution_count": 34,
   "metadata": {},
   "outputs": [
    {
     "data": {
      "text/plain": [
       "[<matplotlib.lines.Line2D at 0x12843be50>]"
      ]
     },
     "execution_count": 34,
     "metadata": {},
     "output_type": "execute_result"
    },
    {
     "data": {
      "image/png": "[encoded data removed]",
      "text/plain": [
       "<Figure size 432x288 with 1 Axes>"
      ]
     },
     "metadata": {
      "needs_background": "light"
     },
     "output_type": "display_data"
    }
   ],
   "source": [
    "plt.plot(average_loss)"
   ]
  },
  {
   "cell_type": "code",
   "execution_count": 62,
   "metadata": {},
   "outputs": [
    {
     "name": "stderr",
     "output_type": "stream",
     "text": [
      "/usr/local/lib/python3.9/site-packages/torch/nn/functional.py:1805: UserWarning: nn.functional.sigmoid is deprecated. Use torch.sigmoid instead.\n",
      "  warnings.warn(\"nn.functional.sigmoid is deprecated. Use torch.sigmoid instead.\")\n"
     ]
    },
    {
     "data": {
      "image/png": "[encoded data removed]",
      "text/plain": [
       "<Figure size 432x288 with 1 Axes>"
      ]
     },
     "metadata": {
      "needs_background": "light"
     },
     "output_type": "display_data"
    },
    {
     "data": {
      "image/png": "[encoded data removed]",
      "text/plain": [
       "<Figure size 432x288 with 1 Axes>"
      ]
     },
     "metadata": {
      "needs_background": "light"
     },
     "output_type": "display_data"
    },
    {
     "data": {
      "image/png": "[encoded data removed]",
      "text/plain": [
       "<Figure size 432x288 with 1 Axes>"
      ]
     },
     "metadata": {
      "needs_background": "light"
     },
     "output_type": "display_data"
    },
    {
     "data": {
      "image/png": "[encoded data removed]",
      "text/plain": [
       "<Figure size 432x288 with 1 Axes>"
      ]
     },
     "metadata": {
      "needs_background": "light"
     },
     "output_type": "display_data"
    },
    {
     "data": {
      "image/png": "[encoded data removed]",
      "text/plain": [
       "<Figure size 432x288 with 1 Axes>"
      ]
     },
     "metadata": {
      "needs_background": "light"
     },
     "output_type": "display_data"
    }
   ],
   "source": [
    "\n",
    "def format_batch(images):\n",
    "    return torch.permute(images, (0, 2, 3, 1))*255.0 # damn this is cursed\n",
    "    \n",
    "# now lets see how things went\n",
    "model.eval()\n",
    "with torch.no_grad():\n",
    "    for batch, _ in loader:\n",
    "        images, _, _ = model(batch)        \n",
    "        images = images.cpu().clamp(0, 1)\n",
    "        images = format_batch(images).detach().numpy()\n",
    "        for i in range(5):\n",
    "            plt.imshow(images[i], cmap=\"gray\")\n",
    "            plt.show()\n",
    "        break\n",
    "    "
   ]
  },
  {
   "cell_type": "code",
   "execution_count": null,
   "metadata": {},
   "outputs": [],
   "source": [
    "filepath = \"../mnist\"\n",
    "index = 0\n",
    "model.eval()\n",
    "saved_data = []\n",
    "with torch.no_grad():\n",
    "    for batch, _ in loader:\n",
    "        batch = batch.cpu()\n",
    "        og_images = batch\n",
    "\n",
    "        embedding, _ = model.encoder(batch)        \n",
    "        embedding = embedding.cpu().detach().numpy()\n",
    "\n",
    "        for image, embed in zip(og_images, embedding):\n",
    "            filename = f\"train-{index}.png\"\n",
    "            save_image(image, f\"{filepath}/images/{filename}\")\n",
    "            saved_data.append({\"index\": index, \n",
    "                               \"filename\": filename, \n",
    "                               \"features\": embed.tolist()})\n",
    "            index += 1"
   ]
  },
  {
   "cell_type": "code",
   "execution_count": 70,
   "metadata": {},
   "outputs": [],
   "source": [
    "with open(f\"{filepath}/clusters/vae_mnist_train.json\", \"w\") as outfile:\n",
    "    json.dump({\"dataset\": \"mnist\",\n",
    "               \"train_instances\": saved_data,\n",
    "               \"model_name\": \"conv_vae\"}, outfile)"
   ]
  }
 ],
 "metadata": {
  "interpreter": {
   "hash": "aee8b7b246df8f9039afb4144a1f6fd8d2ca17a180786b69acc140d282b71a49"
  },
  "kernelspec": {
   "display_name": "Python 3.9.9 64-bit",
   "language": "python",
   "name": "python3"
  },
  "language_info": {
   "codemirror_mode": {
    "name": "ipython",
    "version": 3
   },
   "file_extension": ".py",
   "mimetype": "text/x-python",
   "name": "python",
   "nbconvert_exporter": "python",
   "pygments_lexer": "ipython3",
   "version": "3.9.9"
  },
  "orig_nbformat": 4
 },
 "nbformat": 4,
 "nbformat_minor": 2
}
